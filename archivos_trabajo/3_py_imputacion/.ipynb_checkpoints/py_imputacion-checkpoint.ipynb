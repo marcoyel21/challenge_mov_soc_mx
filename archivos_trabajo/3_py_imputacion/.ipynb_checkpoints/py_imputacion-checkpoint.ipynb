{
 "cells": [
  {
   "cell_type": "code",
   "execution_count": 5,
   "metadata": {},
   "outputs": [],
   "source": [
    "import pandas as pd\n",
    "import numpy as np\n",
    "import utils\n",
    "#El archivo utils contiene mis herramientas necesarias"
   ]
  },
  {
   "cell_type": "code",
   "execution_count": null,
   "metadata": {},
   "outputs": [],
   "source": [
    "# En esta parte se realiza la imputación solo de variables númericas\n",
    "# Se debe dar de imput una base de datos previamente limpiada y codíficada adecuadamente\n",
    "\n",
    "\n",
    "df = pd.read_csv('datos_movilidad_2.dta.csv', encoding='Latin1')\n",
    "\n",
    "#Esta es la técnica del rango intercuantílico\n",
    "df=low_var(df)\n",
    "\n",
    "df.to_csv('out.csv')\n",
    "\n"
   ]
  }
 ],
 "metadata": {
  "kernelspec": {
   "display_name": "Python 3",
   "language": "python",
   "name": "python3"
  },
  "language_info": {
   "codemirror_mode": {
    "name": "ipython",
    "version": 3
   },
   "file_extension": ".py",
   "mimetype": "text/x-python",
   "name": "python",
   "nbconvert_exporter": "python",
   "pygments_lexer": "ipython3",
   "version": "3.7.6"
  }
 },
 "nbformat": 4,
 "nbformat_minor": 4
}
